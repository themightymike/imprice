{
 "cells": [
  {
   "cell_type": "code",
   "execution_count": 485,
   "id": "acting-halifax",
   "metadata": {},
   "outputs": [],
   "source": [
    "import numpy as np\n",
    "import pandas as pd\n",
    "import seaborn as sns\n",
    "import matplotlib.pyplot as plt\n",
    "from itertools import combinations\n",
    "import math\n",
    "import statistics\n",
    "import scipy.stats\n",
    "from scipy.stats import pearsonr\n",
    "import time\n",
    "from datetime import datetime\n",
    "import matplotlib.dates as mdates\n",
    "import warnings\n",
    "\n",
    "# Sklearn\n",
    "from sklearn.model_selection import GridSearchCV, TimeSeriesSplit\n",
    "from sklearn.preprocessing import StandardScaler, OneHotEncoder, LabelEncoder, MinMaxScaler\n",
    "from sklearn.impute import SimpleImputer\n",
    "from sklearn.pipeline import make_pipeline\n",
    "from sklearn.compose import make_column_transformer\n",
    "from sklearn.metrics import confusion_matrix, ConfusionMatrixDisplay, accuracy_score, mean_squared_error, mean_absolute_error\n",
    "from sklearn.ensemble import ExtraTreesRegressor, RandomForestRegressor\n",
    "from sklearn.linear_model import LinearRegression, Ridge\n",
    "from xgboost import plot_importance\n",
    "from lightgbm import plot_importance as l_pi\n",
    "\n",
    "# Models\n",
    "from xgboost import XGBRegressor\n",
    "from catboost import CatBoostRegressor\n",
    "from lightgbm import LGBMRegressor\n",
    "\n",
    "%matplotlib inline\n",
    "warnings.filterwarnings(\"ignore\")"
   ]
  },
  {
   "cell_type": "code",
   "execution_count": 18,
   "id": "digital-still",
   "metadata": {},
   "outputs": [],
   "source": [
    "df1 = pd.read_csv(\"data1.csv\")\n",
    "df2 = pd.read_csv(\"data2_1.csv\")\n",
    "df3 = pd.read_csv(\"data3_1.csv\")"
   ]
  },
  {
   "cell_type": "code",
   "execution_count": 53,
   "id": "removed-increase",
   "metadata": {},
   "outputs": [],
   "source": [
    "df_1 = pd.concat([df1, df2, df3])"
   ]
  },
  {
   "cell_type": "code",
   "execution_count": 55,
   "id": "circular-arbitration",
   "metadata": {},
   "outputs": [
    {
     "data": {
      "text/html": [
       "<div>\n",
       "<style scoped>\n",
       "    .dataframe tbody tr th:only-of-type {\n",
       "        vertical-align: middle;\n",
       "    }\n",
       "\n",
       "    .dataframe tbody tr th {\n",
       "        vertical-align: top;\n",
       "    }\n",
       "\n",
       "    .dataframe thead th {\n",
       "        text-align: right;\n",
       "    }\n",
       "</style>\n",
       "<table border=\"1\" class=\"dataframe\">\n",
       "  <thead>\n",
       "    <tr style=\"text-align: right;\">\n",
       "      <th></th>\n",
       "      <th>date</th>\n",
       "      <th>price</th>\n",
       "      <th>item_id</th>\n",
       "      <th>warehouse_id</th>\n",
       "      <th>quantity</th>\n",
       "      <th>amount</th>\n",
       "      <th>sebes</th>\n",
       "    </tr>\n",
       "  </thead>\n",
       "  <tbody>\n",
       "    <tr>\n",
       "      <th>0</th>\n",
       "      <td>2021-01-04 00:00:00</td>\n",
       "      <td>0.00</td>\n",
       "      <td>7d185936-7a60-11eb-ba7f-4a6a34607ded</td>\n",
       "      <td>01ffab2c-3c70-11ec-ba95-4a6a34607ded</td>\n",
       "      <td>1</td>\n",
       "      <td>59.99</td>\n",
       "      <td>53.5</td>\n",
       "    </tr>\n",
       "    <tr>\n",
       "      <th>1</th>\n",
       "      <td>2021-01-04 00:00:00</td>\n",
       "      <td>0.00</td>\n",
       "      <td>7d185936-7a60-11eb-ba7f-4a6a34607ded</td>\n",
       "      <td>01ffab2c-3c70-11ec-ba95-4a6a34607ded</td>\n",
       "      <td>1</td>\n",
       "      <td>59.99</td>\n",
       "      <td>53.5</td>\n",
       "    </tr>\n",
       "    <tr>\n",
       "      <th>2</th>\n",
       "      <td>2021-01-04 00:00:00</td>\n",
       "      <td>0.00</td>\n",
       "      <td>7d185936-7a60-11eb-ba7f-4a6a34607ded</td>\n",
       "      <td>01ffab2c-3c70-11ec-ba95-4a6a34607ded</td>\n",
       "      <td>1</td>\n",
       "      <td>59.99</td>\n",
       "      <td>53.5</td>\n",
       "    </tr>\n",
       "    <tr>\n",
       "      <th>3</th>\n",
       "      <td>2021-01-04 00:00:00</td>\n",
       "      <td>0.00</td>\n",
       "      <td>7d185936-7a60-11eb-ba7f-4a6a34607ded</td>\n",
       "      <td>bb818041-3c6f-11ec-ba95-4a6a34607ded</td>\n",
       "      <td>1</td>\n",
       "      <td>59.99</td>\n",
       "      <td>53.5</td>\n",
       "    </tr>\n",
       "    <tr>\n",
       "      <th>4</th>\n",
       "      <td>2021-01-04 00:00:00</td>\n",
       "      <td>59.99</td>\n",
       "      <td>7d185936-7a60-11eb-ba7f-4a6a34607ded</td>\n",
       "      <td>d91c6b6b-50f4-11ec-ba96-4a6a34607ded</td>\n",
       "      <td>1</td>\n",
       "      <td>59.99</td>\n",
       "      <td>53.5</td>\n",
       "    </tr>\n",
       "  </tbody>\n",
       "</table>\n",
       "</div>"
      ],
      "text/plain": [
       "                  date  price                               item_id  \\\n",
       "0  2021-01-04 00:00:00   0.00  7d185936-7a60-11eb-ba7f-4a6a34607ded   \n",
       "1  2021-01-04 00:00:00   0.00  7d185936-7a60-11eb-ba7f-4a6a34607ded   \n",
       "2  2021-01-04 00:00:00   0.00  7d185936-7a60-11eb-ba7f-4a6a34607ded   \n",
       "3  2021-01-04 00:00:00   0.00  7d185936-7a60-11eb-ba7f-4a6a34607ded   \n",
       "4  2021-01-04 00:00:00  59.99  7d185936-7a60-11eb-ba7f-4a6a34607ded   \n",
       "\n",
       "                           warehouse_id  quantity  amount  sebes  \n",
       "0  01ffab2c-3c70-11ec-ba95-4a6a34607ded         1   59.99   53.5  \n",
       "1  01ffab2c-3c70-11ec-ba95-4a6a34607ded         1   59.99   53.5  \n",
       "2  01ffab2c-3c70-11ec-ba95-4a6a34607ded         1   59.99   53.5  \n",
       "3  bb818041-3c6f-11ec-ba95-4a6a34607ded         1   59.99   53.5  \n",
       "4  d91c6b6b-50f4-11ec-ba96-4a6a34607ded         1   59.99   53.5  "
      ]
     },
     "execution_count": 55,
     "metadata": {},
     "output_type": "execute_result"
    }
   ],
   "source": [
    "df_1.head()"
   ]
  },
  {
   "cell_type": "code",
   "execution_count": 58,
   "id": "coated-damage",
   "metadata": {},
   "outputs": [
    {
     "data": {
      "text/plain": [
       "20"
      ]
     },
     "execution_count": 58,
     "metadata": {},
     "output_type": "execute_result"
    }
   ],
   "source": [
    "df_1.quantity.max()"
   ]
  },
  {
   "cell_type": "code",
   "execution_count": 555,
   "id": "hourly-delta",
   "metadata": {},
   "outputs": [
    {
     "name": "stdout",
     "output_type": "stream",
     "text": [
      "<class 'pandas.core.frame.DataFrame'>\n",
      "Int64Index: 7881 entries, 0 to 7\n",
      "Data columns (total 7 columns):\n",
      " #   Column        Non-Null Count  Dtype  \n",
      "---  ------        --------------  -----  \n",
      " 0   date          7881 non-null   object \n",
      " 1   price         7881 non-null   float64\n",
      " 2   item_id       7881 non-null   object \n",
      " 3   warehouse_id  7881 non-null   object \n",
      " 4   quantity      7881 non-null   int64  \n",
      " 5   amount        7881 non-null   float64\n",
      " 6   sebes         7881 non-null   float64\n",
      "dtypes: float64(3), int64(1), object(3)\n",
      "memory usage: 492.6+ KB\n"
     ]
    }
   ],
   "source": [
    "df_1.info()"
   ]
  },
  {
   "cell_type": "code",
   "execution_count": 556,
   "id": "processed-couple",
   "metadata": {},
   "outputs": [
    {
     "data": {
      "text/html": [
       "<div>\n",
       "<style scoped>\n",
       "    .dataframe tbody tr th:only-of-type {\n",
       "        vertical-align: middle;\n",
       "    }\n",
       "\n",
       "    .dataframe tbody tr th {\n",
       "        vertical-align: top;\n",
       "    }\n",
       "\n",
       "    .dataframe thead th {\n",
       "        text-align: right;\n",
       "    }\n",
       "</style>\n",
       "<table border=\"1\" class=\"dataframe\">\n",
       "  <thead>\n",
       "    <tr style=\"text-align: right;\">\n",
       "      <th></th>\n",
       "      <th>price</th>\n",
       "      <th>quantity</th>\n",
       "      <th>amount</th>\n",
       "      <th>sebes</th>\n",
       "    </tr>\n",
       "  </thead>\n",
       "  <tbody>\n",
       "    <tr>\n",
       "      <th>count</th>\n",
       "      <td>7881.000000</td>\n",
       "      <td>7881.000000</td>\n",
       "      <td>7881.000000</td>\n",
       "      <td>7881.000000</td>\n",
       "    </tr>\n",
       "    <tr>\n",
       "      <th>mean</th>\n",
       "      <td>29.018286</td>\n",
       "      <td>1.215962</td>\n",
       "      <td>73.103140</td>\n",
       "      <td>62.887013</td>\n",
       "    </tr>\n",
       "    <tr>\n",
       "      <th>std</th>\n",
       "      <td>30.190997</td>\n",
       "      <td>0.565779</td>\n",
       "      <td>34.144389</td>\n",
       "      <td>57.869118</td>\n",
       "    </tr>\n",
       "    <tr>\n",
       "      <th>min</th>\n",
       "      <td>0.000000</td>\n",
       "      <td>1.000000</td>\n",
       "      <td>41.000000</td>\n",
       "      <td>46.810000</td>\n",
       "    </tr>\n",
       "    <tr>\n",
       "      <th>25%</th>\n",
       "      <td>0.000000</td>\n",
       "      <td>1.000000</td>\n",
       "      <td>59.990000</td>\n",
       "      <td>53.500000</td>\n",
       "    </tr>\n",
       "    <tr>\n",
       "      <th>50%</th>\n",
       "      <td>0.000000</td>\n",
       "      <td>1.000000</td>\n",
       "      <td>59.990000</td>\n",
       "      <td>53.500000</td>\n",
       "    </tr>\n",
       "    <tr>\n",
       "      <th>75%</th>\n",
       "      <td>59.990000</td>\n",
       "      <td>1.000000</td>\n",
       "      <td>59.990000</td>\n",
       "      <td>53.500000</td>\n",
       "    </tr>\n",
       "    <tr>\n",
       "      <th>max</th>\n",
       "      <td>72.890000</td>\n",
       "      <td>20.000000</td>\n",
       "      <td>1199.400000</td>\n",
       "      <td>428.000000</td>\n",
       "    </tr>\n",
       "  </tbody>\n",
       "</table>\n",
       "</div>"
      ],
      "text/plain": [
       "             price     quantity       amount        sebes\n",
       "count  7881.000000  7881.000000  7881.000000  7881.000000\n",
       "mean     29.018286     1.215962    73.103140    62.887013\n",
       "std      30.190997     0.565779    34.144389    57.869118\n",
       "min       0.000000     1.000000    41.000000    46.810000\n",
       "25%       0.000000     1.000000    59.990000    53.500000\n",
       "50%       0.000000     1.000000    59.990000    53.500000\n",
       "75%      59.990000     1.000000    59.990000    53.500000\n",
       "max      72.890000    20.000000  1199.400000   428.000000"
      ]
     },
     "execution_count": 556,
     "metadata": {},
     "output_type": "execute_result"
    }
   ],
   "source": [
    "df_1.describe()"
   ]
  },
  {
   "cell_type": "code",
   "execution_count": 547,
   "id": "classified-savings",
   "metadata": {},
   "outputs": [],
   "source": [
    "df_et = df_1.drop(columns = ['price', 'item_id', 'warehouse_id'])"
   ]
  },
  {
   "cell_type": "code",
   "execution_count": 960,
   "id": "harmful-australian",
   "metadata": {},
   "outputs": [
    {
     "data": {
      "text/plain": [
       "(6323, 4)"
      ]
     },
     "execution_count": 960,
     "metadata": {},
     "output_type": "execute_result"
    }
   ],
   "source": [
    "df_et.shape"
   ]
  },
  {
   "cell_type": "code",
   "execution_count": 554,
   "id": "cardiovascular-puzzle",
   "metadata": {},
   "outputs": [
    {
     "data": {
      "text/plain": [
       "Text(0.5, 1.0, 'Sebes distribution')"
      ]
     },
     "execution_count": 554,
     "metadata": {},
     "output_type": "execute_result"
    },
    {
     "data": {
      "image/png": "[encoded data removed]",
      "text/plain": [
       "<Figure size 864x360 with 1 Axes>"
      ]
     },
     "metadata": {
      "needs_background": "light"
     },
     "output_type": "display_data"
    }
   ],
   "source": [
    "plt.figure(figsize=(12,5))\n",
    "sns.boxplot(df_et.sebes)\n",
    "#plt.xticks(rotation=90)\n",
    "plt.title('Sebes distribution')"
   ]
  },
  {
   "cell_type": "code",
   "execution_count": 553,
   "id": "athletic-limit",
   "metadata": {},
   "outputs": [
    {
     "data": {
      "text/plain": [
       "Text(0.5, 1.0, 'Amount distribution')"
      ]
     },
     "execution_count": 553,
     "metadata": {},
     "output_type": "execute_result"
    },
    {
     "data": {
      "image/png": "[encoded data removed]",
      "text/plain": [
       "<Figure size 864x360 with 1 Axes>"
      ]
     },
     "metadata": {
      "needs_background": "light"
     },
     "output_type": "display_data"
    }
   ],
   "source": [
    "plt.figure(figsize=(12,5))\n",
    "sns.boxplot(df_et.amount)\n",
    "#plt.xticks(rotation=90)\n",
    "plt.title('Amount distribution')"
   ]
  },
  {
   "cell_type": "code",
   "execution_count": 551,
   "id": "continuous-voice",
   "metadata": {},
   "outputs": [
    {
     "data": {
      "text/plain": [
       "count    7881.000000\n",
       "mean       73.103140\n",
       "std        34.144389\n",
       "min        41.000000\n",
       "25%        59.990000\n",
       "50%        59.990000\n",
       "75%        59.990000\n",
       "max      1199.400000\n",
       "Name: amount, dtype: float64"
      ]
     },
     "execution_count": 551,
     "metadata": {},
     "output_type": "execute_result"
    }
   ],
   "source": [
    "df_et.amount.describe()"
   ]
  },
  {
   "cell_type": "markdown",
   "id": "expected-disease",
   "metadata": {},
   "source": [
    "## First cleanup"
   ]
  },
  {
   "cell_type": "code",
   "execution_count": 552,
   "id": "unlikely-listening",
   "metadata": {},
   "outputs": [],
   "source": [
    "df_et = df_et.query('sebes < 100')\n",
    "df_et = df_et.query('amount < 100')"
   ]
  },
  {
   "cell_type": "markdown",
   "id": "favorite-coast",
   "metadata": {},
   "source": [
    "## Grouping by date"
   ]
  },
  {
   "cell_type": "code",
   "execution_count": 986,
   "id": "therapeutic-joseph",
   "metadata": {},
   "outputs": [],
   "source": [
    "df = df_et.copy()"
   ]
  },
  {
   "cell_type": "code",
   "execution_count": 987,
   "id": "electric-nicaragua",
   "metadata": {},
   "outputs": [],
   "source": [
    "df = df.groupby(['date']).sum()"
   ]
  },
  {
   "cell_type": "code",
   "execution_count": 988,
   "id": "exterior-hydrogen",
   "metadata": {},
   "outputs": [
    {
     "data": {
      "text/html": [
       "<div>\n",
       "<style scoped>\n",
       "    .dataframe tbody tr th:only-of-type {\n",
       "        vertical-align: middle;\n",
       "    }\n",
       "\n",
       "    .dataframe tbody tr th {\n",
       "        vertical-align: top;\n",
       "    }\n",
       "\n",
       "    .dataframe thead th {\n",
       "        text-align: right;\n",
       "    }\n",
       "</style>\n",
       "<table border=\"1\" class=\"dataframe\">\n",
       "  <thead>\n",
       "    <tr style=\"text-align: right;\">\n",
       "      <th></th>\n",
       "      <th>quantity</th>\n",
       "      <th>amount</th>\n",
       "      <th>sebes</th>\n",
       "    </tr>\n",
       "    <tr>\n",
       "      <th>date</th>\n",
       "      <th></th>\n",
       "      <th></th>\n",
       "      <th></th>\n",
       "    </tr>\n",
       "  </thead>\n",
       "  <tbody>\n",
       "    <tr>\n",
       "      <th>2021-01-04 00:00:00</th>\n",
       "      <td>7</td>\n",
       "      <td>419.93</td>\n",
       "      <td>374.5</td>\n",
       "    </tr>\n",
       "    <tr>\n",
       "      <th>2021-01-05 00:00:00</th>\n",
       "      <td>25</td>\n",
       "      <td>1498.49</td>\n",
       "      <td>1337.5</td>\n",
       "    </tr>\n",
       "    <tr>\n",
       "      <th>2021-01-06 00:00:00</th>\n",
       "      <td>20</td>\n",
       "      <td>1199.80</td>\n",
       "      <td>1070.0</td>\n",
       "    </tr>\n",
       "    <tr>\n",
       "      <th>2021-01-07 00:00:00</th>\n",
       "      <td>22</td>\n",
       "      <td>1319.64</td>\n",
       "      <td>1177.0</td>\n",
       "    </tr>\n",
       "    <tr>\n",
       "      <th>2021-01-08 00:00:00</th>\n",
       "      <td>26</td>\n",
       "      <td>1559.03</td>\n",
       "      <td>1391.0</td>\n",
       "    </tr>\n",
       "  </tbody>\n",
       "</table>\n",
       "</div>"
      ],
      "text/plain": [
       "                     quantity   amount   sebes\n",
       "date                                          \n",
       "2021-01-04 00:00:00         7   419.93   374.5\n",
       "2021-01-05 00:00:00        25  1498.49  1337.5\n",
       "2021-01-06 00:00:00        20  1199.80  1070.0\n",
       "2021-01-07 00:00:00        22  1319.64  1177.0\n",
       "2021-01-08 00:00:00        26  1559.03  1391.0"
      ]
     },
     "execution_count": 988,
     "metadata": {},
     "output_type": "execute_result"
    }
   ],
   "source": [
    "df.head()"
   ]
  },
  {
   "cell_type": "code",
   "execution_count": 989,
   "id": "valuable-dayton",
   "metadata": {},
   "outputs": [],
   "source": [
    "seb = df.sebes / df_et.groupby(['date']).sebes.count()\n",
    "df['seb'] = seb\n",
    "df['price'] = df.amount / df.quantity\n",
    "df = df.drop(columns = ['sebes']).reset_index()\n",
    "df['date'] = pd.to_datetime(df['date'], format=\"%Y/%m/%d\")"
   ]
  },
  {
   "cell_type": "code",
   "execution_count": 990,
   "id": "pressing-vacation",
   "metadata": {},
   "outputs": [
    {
     "data": {
      "text/html": [
       "<div>\n",
       "<style scoped>\n",
       "    .dataframe tbody tr th:only-of-type {\n",
       "        vertical-align: middle;\n",
       "    }\n",
       "\n",
       "    .dataframe tbody tr th {\n",
       "        vertical-align: top;\n",
       "    }\n",
       "\n",
       "    .dataframe thead th {\n",
       "        text-align: right;\n",
       "    }\n",
       "</style>\n",
       "<table border=\"1\" class=\"dataframe\">\n",
       "  <thead>\n",
       "    <tr style=\"text-align: right;\">\n",
       "      <th></th>\n",
       "      <th>date</th>\n",
       "      <th>quantity</th>\n",
       "      <th>amount</th>\n",
       "      <th>seb</th>\n",
       "      <th>price</th>\n",
       "    </tr>\n",
       "  </thead>\n",
       "  <tbody>\n",
       "    <tr>\n",
       "      <th>0</th>\n",
       "      <td>2021-01-04</td>\n",
       "      <td>7</td>\n",
       "      <td>419.93</td>\n",
       "      <td>53.5</td>\n",
       "      <td>59.990000</td>\n",
       "    </tr>\n",
       "    <tr>\n",
       "      <th>1</th>\n",
       "      <td>2021-01-05</td>\n",
       "      <td>25</td>\n",
       "      <td>1498.49</td>\n",
       "      <td>53.5</td>\n",
       "      <td>59.939600</td>\n",
       "    </tr>\n",
       "    <tr>\n",
       "      <th>2</th>\n",
       "      <td>2021-01-06</td>\n",
       "      <td>20</td>\n",
       "      <td>1199.80</td>\n",
       "      <td>53.5</td>\n",
       "      <td>59.990000</td>\n",
       "    </tr>\n",
       "    <tr>\n",
       "      <th>3</th>\n",
       "      <td>2021-01-07</td>\n",
       "      <td>22</td>\n",
       "      <td>1319.64</td>\n",
       "      <td>53.5</td>\n",
       "      <td>59.983636</td>\n",
       "    </tr>\n",
       "    <tr>\n",
       "      <th>4</th>\n",
       "      <td>2021-01-08</td>\n",
       "      <td>26</td>\n",
       "      <td>1559.03</td>\n",
       "      <td>53.5</td>\n",
       "      <td>59.962692</td>\n",
       "    </tr>\n",
       "  </tbody>\n",
       "</table>\n",
       "</div>"
      ],
      "text/plain": [
       "        date  quantity   amount   seb      price\n",
       "0 2021-01-04         7   419.93  53.5  59.990000\n",
       "1 2021-01-05        25  1498.49  53.5  59.939600\n",
       "2 2021-01-06        20  1199.80  53.5  59.990000\n",
       "3 2021-01-07        22  1319.64  53.5  59.983636\n",
       "4 2021-01-08        26  1559.03  53.5  59.962692"
      ]
     },
     "execution_count": 990,
     "metadata": {},
     "output_type": "execute_result"
    }
   ],
   "source": [
    "df.head()"
   ]
  },
  {
   "cell_type": "markdown",
   "id": "choice-immune",
   "metadata": {},
   "source": [
    "## EDA"
   ]
  },
  {
   "cell_type": "code",
   "execution_count": 562,
   "id": "absolute-renewal",
   "metadata": {},
   "outputs": [
    {
     "data": {
      "text/plain": [
       "Text(0.5, 1.0, 'Quantity by date')"
      ]
     },
     "execution_count": 562,
     "metadata": {},
     "output_type": "execute_result"
    },
    {
     "data": {
      "image/png": "[encoded data removed]",
      "text/plain": [
       "<Figure size 864x360 with 1 Axes>"
      ]
     },
     "metadata": {
      "needs_background": "light"
     },
     "output_type": "display_data"
    }
   ],
   "source": [
    "plt.figure(figsize=(12,5))\n",
    "sns.lineplot(data=df, x='date', y='quantity')\n",
    "#plt.xticks(rotation=90)\n",
    "plt.title('Quantity by date')"
   ]
  },
  {
   "cell_type": "code",
   "execution_count": 991,
   "id": "massive-influence",
   "metadata": {},
   "outputs": [],
   "source": [
    "def date_feat_eng_X1(df):\n",
    "    data = df.copy()\n",
    "    data['month']=data['date'].dt.month\n",
    "    return data\n",
    "\n",
    "def date_feat_eng_X2(df):\n",
    "    data = df.copy()\n",
    "    data['day_of_week']=data['date'].dt.dayofweek\n",
    "    data['day_of_month']=data['date'].dt.day\n",
    "    data['dayofyear'] = data['date'].dt.dayofyear  \n",
    "    data['week']=data['date'].dt.isocalendar().week \n",
    "    data['week']=data['week'].astype('int')             \n",
    "    return data"
   ]
  },
  {
   "cell_type": "code",
   "execution_count": 564,
   "id": "negative-cricket",
   "metadata": {},
   "outputs": [],
   "source": [
    "date_month_dep = date_feat_eng_X1(df)"
   ]
  },
  {
   "cell_type": "code",
   "execution_count": 567,
   "id": "active-africa",
   "metadata": {},
   "outputs": [
    {
     "data": {
      "text/plain": [
       "Text(0.5, 1.0, 'Trend Quantity by month')"
      ]
     },
     "execution_count": 567,
     "metadata": {},
     "output_type": "execute_result"
    },
    {
     "data": {
      "image/png": "[encoded data removed]",
      "text/plain": [
       "<Figure size 864x360 with 1 Axes>"
      ]
     },
     "metadata": {
      "needs_background": "light"
     },
     "output_type": "display_data"
    }
   ],
   "source": [
    "plt.figure(figsize=(12,5))\n",
    "sns.lineplot(data=date_month_dep, x='month', y='quantity')\n",
    "#plt.xticks(rotation=90)\n",
    "plt.title('Trend Quantity by month')"
   ]
  },
  {
   "cell_type": "code",
   "execution_count": 966,
   "id": "dried-spank",
   "metadata": {},
   "outputs": [],
   "source": [
    "date_week_dep = date_feat_eng_X2(df)"
   ]
  },
  {
   "cell_type": "code",
   "execution_count": 569,
   "id": "pleasant-blair",
   "metadata": {},
   "outputs": [
    {
     "data": {
      "text/plain": [
       "Text(0.5, 1.0, 'Trend Quantity by day_of_week')"
      ]
     },
     "execution_count": 569,
     "metadata": {},
     "output_type": "execute_result"
    },
    {
     "data": {
      "image/png": "[encoded data removed]",
      "text/plain": [
       "<Figure size 864x360 with 1 Axes>"
      ]
     },
     "metadata": {
      "needs_background": "light"
     },
     "output_type": "display_data"
    }
   ],
   "source": [
    "plt.figure(figsize=(12,5))\n",
    "sns.barplot(data=df, x='day_of_week', y='quantity')\n",
    "#plt.xticks(rotation=90)\n",
    "plt.title('Trend Quantity by day_of_week')"
   ]
  },
  {
   "cell_type": "code",
   "execution_count": 570,
   "id": "raising-passage",
   "metadata": {},
   "outputs": [
    {
     "data": {
      "text/plain": [
       "Text(0.5, 1.0, 'Trend Quantity by week')"
      ]
     },
     "execution_count": 570,
     "metadata": {},
     "output_type": "execute_result"
    },
    {
     "data": {
      "image/png": "[encoded data removed]",
      "text/plain": [
       "<Figure size 864x360 with 1 Axes>"
      ]
     },
     "metadata": {
      "needs_background": "light"
     },
     "output_type": "display_data"
    }
   ],
   "source": [
    "plt.figure(figsize=(12,5))\n",
    "sns.lineplot(data=date_week_dep, x='week', y='quantity')\n",
    "#plt.xticks(rotation=90)\n",
    "plt.title('Trend Quantity by week')"
   ]
  },
  {
   "cell_type": "code",
   "execution_count": 994,
   "id": "motivated-universe",
   "metadata": {},
   "outputs": [
    {
     "data": {
      "text/plain": [
       "Text(0.5, 1.0, 'Quantity distribution')"
      ]
     },
     "execution_count": 994,
     "metadata": {},
     "output_type": "execute_result"
    },
    {
     "data": {
      "image/png": "[encoded data removed]",
      "text/plain": [
       "<Figure size 864x360 with 1 Axes>"
      ]
     },
     "metadata": {
      "needs_background": "light"
     },
     "output_type": "display_data"
    }
   ],
   "source": [
    "plt.figure(figsize=(12,5))\n",
    "sns.boxplot(df.quantity)\n",
    "#plt.xticks(rotation=90)\n",
    "plt.title('Quantity distribution')"
   ]
  },
  {
   "cell_type": "code",
   "execution_count": 993,
   "id": "experimental-error",
   "metadata": {},
   "outputs": [],
   "source": [
    "df = df.query('quantity < 50')"
   ]
  },
  {
   "cell_type": "code",
   "execution_count": 574,
   "id": "palestinian-convenience",
   "metadata": {},
   "outputs": [
    {
     "data": {
      "text/plain": [
       "Text(0.5, 1.0, 'Prime cost distribution')"
      ]
     },
     "execution_count": 574,
     "metadata": {},
     "output_type": "execute_result"
    },
    {
     "data": {
      "image/png": "[encoded data removed]",
      "text/plain": [
       "<Figure size 864x360 with 1 Axes>"
      ]
     },
     "metadata": {
      "needs_background": "light"
     },
     "output_type": "display_data"
    }
   ],
   "source": [
    "plt.figure(figsize=(12,5))\n",
    "sns.boxplot(df.seb)\n",
    "#plt.xticks(rotation=90)\n",
    "plt.title('Prime cost distribution')"
   ]
  },
  {
   "cell_type": "code",
   "execution_count": 575,
   "id": "entertaining-edgar",
   "metadata": {},
   "outputs": [
    {
     "data": {
      "text/plain": [
       "Text(0.5, 1.0, 'Price distribution')"
      ]
     },
     "execution_count": 575,
     "metadata": {},
     "output_type": "execute_result"
    },
    {
     "data": {
      "image/png": "[encoded data removed]",
      "text/plain": [
       "<Figure size 864x360 with 1 Axes>"
      ]
     },
     "metadata": {
      "needs_background": "light"
     },
     "output_type": "display_data"
    }
   ],
   "source": [
    "plt.figure(figsize=(12,5))\n",
    "sns.boxplot(df.price)\n",
    "#plt.xticks(rotation=90)\n",
    "plt.title('Price distribution')"
   ]
  },
  {
   "cell_type": "markdown",
   "id": "colonial-maple",
   "metadata": {},
   "source": [
    "## Feature Engineering"
   ]
  },
  {
   "cell_type": "code",
   "execution_count": 1384,
   "id": "sharing-james",
   "metadata": {},
   "outputs": [],
   "source": [
    "df_test = pd.to_datetime([1, 2, 3, 4, 5, 6], unit='D', origin=pd.Timestamp('2021-12-31'))\n",
    "df_test = df_test.insert(0, '2021-12-31')\n",
    "df_test = pd.DataFrame(df_test)\n",
    "df_test = df_test.rename(columns = {0:'date'})\n",
    "df_test_lin = date_feat_eng_X1(df_test)\n",
    "df_test_boost = date_feat_eng_X2(df_test)"
   ]
  },
  {
   "cell_type": "code",
   "execution_count": 1385,
   "id": "functional-lodge",
   "metadata": {},
   "outputs": [
    {
     "data": {
      "text/html": [
       "<div>\n",
       "<style scoped>\n",
       "    .dataframe tbody tr th:only-of-type {\n",
       "        vertical-align: middle;\n",
       "    }\n",
       "\n",
       "    .dataframe tbody tr th {\n",
       "        vertical-align: top;\n",
       "    }\n",
       "\n",
       "    .dataframe thead th {\n",
       "        text-align: right;\n",
       "    }\n",
       "</style>\n",
       "<table border=\"1\" class=\"dataframe\">\n",
       "  <thead>\n",
       "    <tr style=\"text-align: right;\">\n",
       "      <th></th>\n",
       "      <th>date</th>\n",
       "      <th>month</th>\n",
       "    </tr>\n",
       "  </thead>\n",
       "  <tbody>\n",
       "    <tr>\n",
       "      <th>0</th>\n",
       "      <td>2021-12-31</td>\n",
       "      <td>12</td>\n",
       "    </tr>\n",
       "    <tr>\n",
       "      <th>1</th>\n",
       "      <td>2022-01-01</td>\n",
       "      <td>1</td>\n",
       "    </tr>\n",
       "    <tr>\n",
       "      <th>2</th>\n",
       "      <td>2022-01-02</td>\n",
       "      <td>1</td>\n",
       "    </tr>\n",
       "    <tr>\n",
       "      <th>3</th>\n",
       "      <td>2022-01-03</td>\n",
       "      <td>1</td>\n",
       "    </tr>\n",
       "    <tr>\n",
       "      <th>4</th>\n",
       "      <td>2022-01-04</td>\n",
       "      <td>1</td>\n",
       "    </tr>\n",
       "  </tbody>\n",
       "</table>\n",
       "</div>"
      ],
      "text/plain": [
       "        date  month\n",
       "0 2021-12-31     12\n",
       "1 2022-01-01      1\n",
       "2 2022-01-02      1\n",
       "3 2022-01-03      1\n",
       "4 2022-01-04      1"
      ]
     },
     "execution_count": 1385,
     "metadata": {},
     "output_type": "execute_result"
    }
   ],
   "source": [
    "df_test_lin.head()"
   ]
  },
  {
   "cell_type": "code",
   "execution_count": 1254,
   "id": "republican-handy",
   "metadata": {},
   "outputs": [],
   "source": [
    "def trend_features(df):\n",
    "    data = df.copy()\n",
    "    data['margin'] = data.price - data.seb\n",
    "    \n",
    "    lag_list = [2,4,6]\n",
    "\n",
    "    for lag in lag_list:\n",
    "        ft_name = ('price_shifted%s' % lag)\n",
    "        data[ft_name] = data['price'].shift(lag)\n",
    "        data[ft_name].fillna(0, inplace=True)\n",
    "        \n",
    "    for lag in lag_list:\n",
    "        ft_name = ('quan_shifted%s' % lag)\n",
    "        data[ft_name] = data['quantity'].shift(lag)\n",
    "        data[ft_name].fillna(0, inplace=True)\n",
    "        \n",
    "    data['price_trend'] = data['price']\n",
    "\n",
    "    for lag in lag_list:\n",
    "        ft_name = ('price_shifted%s' % lag)\n",
    "        data['price_trend'] -= data[ft_name]\n",
    "\n",
    "    data['price_trend'] /= len(lag_list) + 1\n",
    "    \n",
    "    data['quan_trend'] = data['quantity']\n",
    "\n",
    "    for lag in lag_list:\n",
    "        ft_name = ('quan_shifted%s' % lag)\n",
    "        data['quan_trend'] -= data[ft_name]\n",
    "\n",
    "    data['quan_trend'] /= len(lag_list) + 1\n",
    "    \n",
    "    return data\n",
    "    "
   ]
  },
  {
   "cell_type": "code",
   "execution_count": 1003,
   "id": "elect-channel",
   "metadata": {},
   "outputs": [],
   "source": [
    "def FourierFeatures(df):\n",
    "    data = df.copy()\n",
    "    dayofyear = data['date'].dt.dayofyear\n",
    "    weekofyear = data['date'].dt.isocalendar().week.astype('int')\n",
    "    data[f'sin1'] = np.sin(dayofyear / 365 * 2 * math.pi)\n",
    "    data[f'cos1'] = np.cos(dayofyear / 365 * 2 * math.pi)\n",
    "    data[f'sin2'] = np.sin(weekofyear / 52 * 2 * math.pi)\n",
    "    data[f'cos2'] = np.cos(weekofyear / 52 * 2 * math.pi)\n",
    "    return data"
   ]
  },
  {
   "cell_type": "code",
   "execution_count": 1386,
   "id": "enclosed-waterproof",
   "metadata": {},
   "outputs": [],
   "source": [
    "df_test_lin = FourierFeatures(df_test_lin)\n",
    "df_test_lin = df_test_lin.drop(columns = ['date'])"
   ]
  },
  {
   "cell_type": "code",
   "execution_count": 1037,
   "id": "round-bride",
   "metadata": {},
   "outputs": [
    {
     "data": {
      "text/html": [
       "<div>\n",
       "<style scoped>\n",
       "    .dataframe tbody tr th:only-of-type {\n",
       "        vertical-align: middle;\n",
       "    }\n",
       "\n",
       "    .dataframe tbody tr th {\n",
       "        vertical-align: top;\n",
       "    }\n",
       "\n",
       "    .dataframe thead th {\n",
       "        text-align: right;\n",
       "    }\n",
       "</style>\n",
       "<table border=\"1\" class=\"dataframe\">\n",
       "  <thead>\n",
       "    <tr style=\"text-align: right;\">\n",
       "      <th></th>\n",
       "      <th>date</th>\n",
       "      <th>quantity</th>\n",
       "      <th>amount</th>\n",
       "      <th>seb</th>\n",
       "      <th>price</th>\n",
       "    </tr>\n",
       "  </thead>\n",
       "  <tbody>\n",
       "    <tr>\n",
       "      <th>0</th>\n",
       "      <td>2021-01-04</td>\n",
       "      <td>7</td>\n",
       "      <td>419.93</td>\n",
       "      <td>53.5</td>\n",
       "      <td>59.990000</td>\n",
       "    </tr>\n",
       "    <tr>\n",
       "      <th>1</th>\n",
       "      <td>2021-01-05</td>\n",
       "      <td>25</td>\n",
       "      <td>1498.49</td>\n",
       "      <td>53.5</td>\n",
       "      <td>59.939600</td>\n",
       "    </tr>\n",
       "    <tr>\n",
       "      <th>2</th>\n",
       "      <td>2021-01-06</td>\n",
       "      <td>20</td>\n",
       "      <td>1199.80</td>\n",
       "      <td>53.5</td>\n",
       "      <td>59.990000</td>\n",
       "    </tr>\n",
       "    <tr>\n",
       "      <th>3</th>\n",
       "      <td>2021-01-07</td>\n",
       "      <td>22</td>\n",
       "      <td>1319.64</td>\n",
       "      <td>53.5</td>\n",
       "      <td>59.983636</td>\n",
       "    </tr>\n",
       "    <tr>\n",
       "      <th>4</th>\n",
       "      <td>2021-01-08</td>\n",
       "      <td>26</td>\n",
       "      <td>1559.03</td>\n",
       "      <td>53.5</td>\n",
       "      <td>59.962692</td>\n",
       "    </tr>\n",
       "    <tr>\n",
       "      <th>5</th>\n",
       "      <td>2021-01-09</td>\n",
       "      <td>32</td>\n",
       "      <td>1919.52</td>\n",
       "      <td>53.5</td>\n",
       "      <td>59.985000</td>\n",
       "    </tr>\n",
       "    <tr>\n",
       "      <th>6</th>\n",
       "      <td>2021-01-10</td>\n",
       "      <td>24</td>\n",
       "      <td>1439.29</td>\n",
       "      <td>53.5</td>\n",
       "      <td>59.970417</td>\n",
       "    </tr>\n",
       "    <tr>\n",
       "      <th>7</th>\n",
       "      <td>2021-01-11</td>\n",
       "      <td>18</td>\n",
       "      <td>1079.31</td>\n",
       "      <td>53.5</td>\n",
       "      <td>59.961667</td>\n",
       "    </tr>\n",
       "  </tbody>\n",
       "</table>\n",
       "</div>"
      ],
      "text/plain": [
       "        date  quantity   amount   seb      price\n",
       "0 2021-01-04         7   419.93  53.5  59.990000\n",
       "1 2021-01-05        25  1498.49  53.5  59.939600\n",
       "2 2021-01-06        20  1199.80  53.5  59.990000\n",
       "3 2021-01-07        22  1319.64  53.5  59.983636\n",
       "4 2021-01-08        26  1559.03  53.5  59.962692\n",
       "5 2021-01-09        32  1919.52  53.5  59.985000\n",
       "6 2021-01-10        24  1439.29  53.5  59.970417\n",
       "7 2021-01-11        18  1079.31  53.5  59.961667"
      ]
     },
     "execution_count": 1037,
     "metadata": {},
     "output_type": "execute_result"
    }
   ],
   "source": [
    "df.head(8)"
   ]
  },
  {
   "cell_type": "code",
   "execution_count": 1040,
   "id": "psychological-vacation",
   "metadata": {},
   "outputs": [],
   "source": [
    "df_train_lin = date_feat_eng_X1(df)\n",
    "df_train_lin = FourierFeatures(df_train_lin)\n",
    "df_train_lin = df_train_lin.drop(columns = ['date','amount'])"
   ]
  },
  {
   "cell_type": "code",
   "execution_count": 1255,
   "id": "supreme-british",
   "metadata": {},
   "outputs": [],
   "source": [
    "df_train_boost = trend_features(df)\n",
    "df_train_boost = date_feat_eng_X2(df_train_boost)\n",
    "df_train_boost = df_train_boost.drop(columns = ['date', 'amount'])"
   ]
  },
  {
   "cell_type": "code",
   "execution_count": 1387,
   "id": "historic-illustration",
   "metadata": {},
   "outputs": [],
   "source": [
    "data_for_test = df_train_boost[-7:]\n",
    "data_for_test = data_for_test.drop(columns = ['quantity', 'day_of_week','day_of_month', 'dayofyear' ,'week'])"
   ]
  },
  {
   "cell_type": "code",
   "execution_count": 1388,
   "id": "binding-indicator",
   "metadata": {},
   "outputs": [],
   "source": [
    "data_for_test = data_for_test.reset_index()"
   ]
  },
  {
   "cell_type": "code",
   "execution_count": 1389,
   "id": "front-mobility",
   "metadata": {},
   "outputs": [],
   "source": [
    "data_for_test = data_for_test.drop(columns = ['index'])"
   ]
  },
  {
   "cell_type": "code",
   "execution_count": 1390,
   "id": "dependent-premiere",
   "metadata": {},
   "outputs": [],
   "source": [
    "#df_test_boost = date_feat_eng_X2(df_test)\n",
    "df_test_boost = df_test_boost.drop(columns = ['date'])\n",
    "df_test_boost = pd.concat([df_test_boost, data_for_test], axis=1)"
   ]
  },
  {
   "cell_type": "code",
   "execution_count": 1391,
   "id": "higher-challenge",
   "metadata": {},
   "outputs": [
    {
     "data": {
      "text/html": [
       "<div>\n",
       "<style scoped>\n",
       "    .dataframe tbody tr th:only-of-type {\n",
       "        vertical-align: middle;\n",
       "    }\n",
       "\n",
       "    .dataframe tbody tr th {\n",
       "        vertical-align: top;\n",
       "    }\n",
       "\n",
       "    .dataframe thead th {\n",
       "        text-align: right;\n",
       "    }\n",
       "</style>\n",
       "<table border=\"1\" class=\"dataframe\">\n",
       "  <thead>\n",
       "    <tr style=\"text-align: right;\">\n",
       "      <th></th>\n",
       "      <th>day_of_week</th>\n",
       "      <th>day_of_month</th>\n",
       "      <th>dayofyear</th>\n",
       "      <th>week</th>\n",
       "      <th>seb</th>\n",
       "      <th>price</th>\n",
       "      <th>margin</th>\n",
       "      <th>price_shifted2</th>\n",
       "      <th>price_shifted4</th>\n",
       "      <th>price_shifted6</th>\n",
       "      <th>quan_shifted2</th>\n",
       "      <th>quan_shifted4</th>\n",
       "      <th>quan_shifted6</th>\n",
       "      <th>price_trend</th>\n",
       "      <th>quan_trend</th>\n",
       "    </tr>\n",
       "  </thead>\n",
       "  <tbody>\n",
       "    <tr>\n",
       "      <th>0</th>\n",
       "      <td>4</td>\n",
       "      <td>31</td>\n",
       "      <td>365</td>\n",
       "      <td>52</td>\n",
       "      <td>62.0</td>\n",
       "      <td>64.738750</td>\n",
       "      <td>2.738750</td>\n",
       "      <td>66.440000</td>\n",
       "      <td>69.077500</td>\n",
       "      <td>68.426667</td>\n",
       "      <td>12.0</td>\n",
       "      <td>8.0</td>\n",
       "      <td>6.0</td>\n",
       "      <td>-34.801354</td>\n",
       "      <td>-4.50</td>\n",
       "    </tr>\n",
       "    <tr>\n",
       "      <th>1</th>\n",
       "      <td>5</td>\n",
       "      <td>1</td>\n",
       "      <td>1</td>\n",
       "      <td>52</td>\n",
       "      <td>62.0</td>\n",
       "      <td>65.715000</td>\n",
       "      <td>3.715000</td>\n",
       "      <td>64.956667</td>\n",
       "      <td>69.600000</td>\n",
       "      <td>65.096190</td>\n",
       "      <td>15.0</td>\n",
       "      <td>4.0</td>\n",
       "      <td>21.0</td>\n",
       "      <td>-33.484464</td>\n",
       "      <td>-9.00</td>\n",
       "    </tr>\n",
       "    <tr>\n",
       "      <th>2</th>\n",
       "      <td>6</td>\n",
       "      <td>2</td>\n",
       "      <td>2</td>\n",
       "      <td>52</td>\n",
       "      <td>62.0</td>\n",
       "      <td>64.390000</td>\n",
       "      <td>2.390000</td>\n",
       "      <td>64.738750</td>\n",
       "      <td>66.440000</td>\n",
       "      <td>69.077500</td>\n",
       "      <td>8.0</td>\n",
       "      <td>12.0</td>\n",
       "      <td>8.0</td>\n",
       "      <td>-33.966562</td>\n",
       "      <td>-5.25</td>\n",
       "    </tr>\n",
       "    <tr>\n",
       "      <th>3</th>\n",
       "      <td>0</td>\n",
       "      <td>3</td>\n",
       "      <td>3</td>\n",
       "      <td>1</td>\n",
       "      <td>62.0</td>\n",
       "      <td>65.044286</td>\n",
       "      <td>3.044286</td>\n",
       "      <td>65.715000</td>\n",
       "      <td>64.956667</td>\n",
       "      <td>69.600000</td>\n",
       "      <td>4.0</td>\n",
       "      <td>15.0</td>\n",
       "      <td>4.0</td>\n",
       "      <td>-33.806845</td>\n",
       "      <td>-4.00</td>\n",
       "    </tr>\n",
       "    <tr>\n",
       "      <th>4</th>\n",
       "      <td>1</td>\n",
       "      <td>4</td>\n",
       "      <td>4</td>\n",
       "      <td>1</td>\n",
       "      <td>62.0</td>\n",
       "      <td>70.445000</td>\n",
       "      <td>8.445000</td>\n",
       "      <td>64.390000</td>\n",
       "      <td>64.738750</td>\n",
       "      <td>66.440000</td>\n",
       "      <td>7.0</td>\n",
       "      <td>8.0</td>\n",
       "      <td>12.0</td>\n",
       "      <td>-31.280937</td>\n",
       "      <td>-5.25</td>\n",
       "    </tr>\n",
       "    <tr>\n",
       "      <th>5</th>\n",
       "      <td>2</td>\n",
       "      <td>5</td>\n",
       "      <td>5</td>\n",
       "      <td>1</td>\n",
       "      <td>62.0</td>\n",
       "      <td>64.290000</td>\n",
       "      <td>2.290000</td>\n",
       "      <td>65.044286</td>\n",
       "      <td>65.715000</td>\n",
       "      <td>64.956667</td>\n",
       "      <td>7.0</td>\n",
       "      <td>4.0</td>\n",
       "      <td>15.0</td>\n",
       "      <td>-32.856488</td>\n",
       "      <td>-4.25</td>\n",
       "    </tr>\n",
       "    <tr>\n",
       "      <th>6</th>\n",
       "      <td>3</td>\n",
       "      <td>6</td>\n",
       "      <td>6</td>\n",
       "      <td>1</td>\n",
       "      <td>62.0</td>\n",
       "      <td>71.166250</td>\n",
       "      <td>9.166250</td>\n",
       "      <td>70.445000</td>\n",
       "      <td>64.390000</td>\n",
       "      <td>64.738750</td>\n",
       "      <td>6.0</td>\n",
       "      <td>7.0</td>\n",
       "      <td>8.0</td>\n",
       "      <td>-32.101875</td>\n",
       "      <td>-3.25</td>\n",
       "    </tr>\n",
       "  </tbody>\n",
       "</table>\n",
       "</div>"
      ],
      "text/plain": [
       "   day_of_week  day_of_month  dayofyear  week   seb      price    margin  \\\n",
       "0            4            31        365    52  62.0  64.738750  2.738750   \n",
       "1            5             1          1    52  62.0  65.715000  3.715000   \n",
       "2            6             2          2    52  62.0  64.390000  2.390000   \n",
       "3            0             3          3     1  62.0  65.044286  3.044286   \n",
       "4            1             4          4     1  62.0  70.445000  8.445000   \n",
       "5            2             5          5     1  62.0  64.290000  2.290000   \n",
       "6            3             6          6     1  62.0  71.166250  9.166250   \n",
       "\n",
       "   price_shifted2  price_shifted4  price_shifted6  quan_shifted2  \\\n",
       "0       66.440000       69.077500       68.426667           12.0   \n",
       "1       64.956667       69.600000       65.096190           15.0   \n",
       "2       64.738750       66.440000       69.077500            8.0   \n",
       "3       65.715000       64.956667       69.600000            4.0   \n",
       "4       64.390000       64.738750       66.440000            7.0   \n",
       "5       65.044286       65.715000       64.956667            7.0   \n",
       "6       70.445000       64.390000       64.738750            6.0   \n",
       "\n",
       "   quan_shifted4  quan_shifted6  price_trend  quan_trend  \n",
       "0            8.0            6.0   -34.801354       -4.50  \n",
       "1            4.0           21.0   -33.484464       -9.00  \n",
       "2           12.0            8.0   -33.966562       -5.25  \n",
       "3           15.0            4.0   -33.806845       -4.00  \n",
       "4            8.0           12.0   -31.280937       -5.25  \n",
       "5            4.0           15.0   -32.856488       -4.25  \n",
       "6            7.0            8.0   -32.101875       -3.25  "
      ]
     },
     "execution_count": 1391,
     "metadata": {},
     "output_type": "execute_result"
    }
   ],
   "source": [
    "df_test_boost.head(8)"
   ]
  },
  {
   "cell_type": "code",
   "execution_count": 1392,
   "id": "narrow-works",
   "metadata": {},
   "outputs": [],
   "source": [
    "data_for_test_lin = df[-7:]"
   ]
  },
  {
   "cell_type": "code",
   "execution_count": 1393,
   "id": "ideal-interaction",
   "metadata": {},
   "outputs": [],
   "source": [
    "df_test_lin[['seb', 'price']] = data_for_test_lin[['seb', 'price']].values"
   ]
  },
  {
   "cell_type": "code",
   "execution_count": 1394,
   "id": "cultural-antigua",
   "metadata": {},
   "outputs": [
    {
     "name": "stdout",
     "output_type": "stream",
     "text": [
      "Data Shapes:\n",
      " (352, 8) \n",
      " (7, 7) \n",
      " (352, 16) \n",
      " (7, 15) \n",
      "\n"
     ]
    }
   ],
   "source": [
    "print('Data Shapes:\\n', df_train_lin.shape, '\\n', df_test_lin.shape, '\\n', df_train_boost.shape, '\\n', df_test_boost.shape, '\\n')"
   ]
  },
  {
   "cell_type": "code",
   "execution_count": 1336,
   "id": "further-machinery",
   "metadata": {},
   "outputs": [
    {
     "data": {
      "text/html": [
       "<div>\n",
       "<style scoped>\n",
       "    .dataframe tbody tr th:only-of-type {\n",
       "        vertical-align: middle;\n",
       "    }\n",
       "\n",
       "    .dataframe tbody tr th {\n",
       "        vertical-align: top;\n",
       "    }\n",
       "\n",
       "    .dataframe thead th {\n",
       "        text-align: right;\n",
       "    }\n",
       "</style>\n",
       "<table border=\"1\" class=\"dataframe\">\n",
       "  <thead>\n",
       "    <tr style=\"text-align: right;\">\n",
       "      <th></th>\n",
       "      <th>day_of_week</th>\n",
       "      <th>day_of_month</th>\n",
       "      <th>dayofyear</th>\n",
       "      <th>week</th>\n",
       "      <th>index</th>\n",
       "      <th>seb</th>\n",
       "      <th>price</th>\n",
       "      <th>margin</th>\n",
       "      <th>price_shifted2</th>\n",
       "      <th>price_shifted4</th>\n",
       "      <th>price_shifted6</th>\n",
       "      <th>quan_shifted2</th>\n",
       "      <th>quan_shifted4</th>\n",
       "      <th>quan_shifted6</th>\n",
       "      <th>price_trend</th>\n",
       "      <th>quan_trend</th>\n",
       "    </tr>\n",
       "  </thead>\n",
       "  <tbody>\n",
       "    <tr>\n",
       "      <th>0</th>\n",
       "      <td>4</td>\n",
       "      <td>31</td>\n",
       "      <td>365</td>\n",
       "      <td>52</td>\n",
       "      <td>346</td>\n",
       "      <td>62.0</td>\n",
       "      <td>64.738750</td>\n",
       "      <td>2.738750</td>\n",
       "      <td>66.440000</td>\n",
       "      <td>69.077500</td>\n",
       "      <td>68.426667</td>\n",
       "      <td>12.0</td>\n",
       "      <td>8.0</td>\n",
       "      <td>6.0</td>\n",
       "      <td>-34.801354</td>\n",
       "      <td>-4.50</td>\n",
       "    </tr>\n",
       "    <tr>\n",
       "      <th>1</th>\n",
       "      <td>5</td>\n",
       "      <td>1</td>\n",
       "      <td>1</td>\n",
       "      <td>52</td>\n",
       "      <td>347</td>\n",
       "      <td>62.0</td>\n",
       "      <td>65.715000</td>\n",
       "      <td>3.715000</td>\n",
       "      <td>64.956667</td>\n",
       "      <td>69.600000</td>\n",
       "      <td>65.096190</td>\n",
       "      <td>15.0</td>\n",
       "      <td>4.0</td>\n",
       "      <td>21.0</td>\n",
       "      <td>-33.484464</td>\n",
       "      <td>-9.00</td>\n",
       "    </tr>\n",
       "    <tr>\n",
       "      <th>2</th>\n",
       "      <td>6</td>\n",
       "      <td>2</td>\n",
       "      <td>2</td>\n",
       "      <td>52</td>\n",
       "      <td>348</td>\n",
       "      <td>62.0</td>\n",
       "      <td>64.390000</td>\n",
       "      <td>2.390000</td>\n",
       "      <td>64.738750</td>\n",
       "      <td>66.440000</td>\n",
       "      <td>69.077500</td>\n",
       "      <td>8.0</td>\n",
       "      <td>12.0</td>\n",
       "      <td>8.0</td>\n",
       "      <td>-33.966562</td>\n",
       "      <td>-5.25</td>\n",
       "    </tr>\n",
       "    <tr>\n",
       "      <th>3</th>\n",
       "      <td>0</td>\n",
       "      <td>3</td>\n",
       "      <td>3</td>\n",
       "      <td>1</td>\n",
       "      <td>349</td>\n",
       "      <td>62.0</td>\n",
       "      <td>65.044286</td>\n",
       "      <td>3.044286</td>\n",
       "      <td>65.715000</td>\n",
       "      <td>64.956667</td>\n",
       "      <td>69.600000</td>\n",
       "      <td>4.0</td>\n",
       "      <td>15.0</td>\n",
       "      <td>4.0</td>\n",
       "      <td>-33.806845</td>\n",
       "      <td>-4.00</td>\n",
       "    </tr>\n",
       "    <tr>\n",
       "      <th>4</th>\n",
       "      <td>1</td>\n",
       "      <td>4</td>\n",
       "      <td>4</td>\n",
       "      <td>1</td>\n",
       "      <td>350</td>\n",
       "      <td>62.0</td>\n",
       "      <td>70.445000</td>\n",
       "      <td>8.445000</td>\n",
       "      <td>64.390000</td>\n",
       "      <td>64.738750</td>\n",
       "      <td>66.440000</td>\n",
       "      <td>7.0</td>\n",
       "      <td>8.0</td>\n",
       "      <td>12.0</td>\n",
       "      <td>-31.280937</td>\n",
       "      <td>-5.25</td>\n",
       "    </tr>\n",
       "  </tbody>\n",
       "</table>\n",
       "</div>"
      ],
      "text/plain": [
       "   day_of_week  day_of_month  dayofyear  week  index   seb      price  \\\n",
       "0            4            31        365    52    346  62.0  64.738750   \n",
       "1            5             1          1    52    347  62.0  65.715000   \n",
       "2            6             2          2    52    348  62.0  64.390000   \n",
       "3            0             3          3     1    349  62.0  65.044286   \n",
       "4            1             4          4     1    350  62.0  70.445000   \n",
       "\n",
       "     margin  price_shifted2  price_shifted4  price_shifted6  quan_shifted2  \\\n",
       "0  2.738750       66.440000       69.077500       68.426667           12.0   \n",
       "1  3.715000       64.956667       69.600000       65.096190           15.0   \n",
       "2  2.390000       64.738750       66.440000       69.077500            8.0   \n",
       "3  3.044286       65.715000       64.956667       69.600000            4.0   \n",
       "4  8.445000       64.390000       64.738750       66.440000            7.0   \n",
       "\n",
       "   quan_shifted4  quan_shifted6  price_trend  quan_trend  \n",
       "0            8.0            6.0   -34.801354       -4.50  \n",
       "1            4.0           21.0   -33.484464       -9.00  \n",
       "2           12.0            8.0   -33.966562       -5.25  \n",
       "3           15.0            4.0   -33.806845       -4.00  \n",
       "4            8.0           12.0   -31.280937       -5.25  "
      ]
     },
     "execution_count": 1336,
     "metadata": {},
     "output_type": "execute_result"
    }
   ],
   "source": [
    "df_test_boost.head()"
   ]
  },
  {
   "cell_type": "code",
   "execution_count": 1432,
   "id": "connected-antibody",
   "metadata": {},
   "outputs": [],
   "source": [
    "df_valid_lin = df_train_lin[-14:]\n",
    "df_valid_boost  = df_train_boost[-14:]"
   ]
  },
  {
   "cell_type": "code",
   "execution_count": 1396,
   "id": "prospective-literature",
   "metadata": {},
   "outputs": [
    {
     "data": {
      "text/plain": [
       "(14, 8)"
      ]
     },
     "execution_count": 1396,
     "metadata": {},
     "output_type": "execute_result"
    }
   ],
   "source": [
    "df_valid_lin.shape"
   ]
  },
  {
   "cell_type": "code",
   "execution_count": 1397,
   "id": "spoken-communications",
   "metadata": {},
   "outputs": [
    {
     "data": {
      "text/plain": [
       "(14, 16)"
      ]
     },
     "execution_count": 1397,
     "metadata": {},
     "output_type": "execute_result"
    }
   ],
   "source": [
    "df_valid_boost.shape"
   ]
  },
  {
   "cell_type": "code",
   "execution_count": 1433,
   "id": "accessory-election",
   "metadata": {},
   "outputs": [],
   "source": [
    "df_train_lin_final = df_train_lin.iloc[8:352]\n",
    "df_train_boost_final = df_train_boost.iloc[8:352]\n",
    "df_train_lin_final = df_train_lin_final.drop(columns = 'quantity')\n",
    "Y_train = df_train_boost_final.pop('quantity')\n",
    "df_valid_lin = df_valid_lin.drop(columns = 'quantity')\n",
    "Y_valid = df_valid_boost.pop('quantity')"
   ]
  },
  {
   "cell_type": "code",
   "execution_count": 1399,
   "id": "vanilla-hindu",
   "metadata": {},
   "outputs": [
    {
     "data": {
      "text/plain": [
       "(14, 7)"
      ]
     },
     "execution_count": 1399,
     "metadata": {},
     "output_type": "execute_result"
    }
   ],
   "source": [
    "df_valid_lin.shape"
   ]
  },
  {
   "cell_type": "code",
   "execution_count": 1400,
   "id": "interracial-fighter",
   "metadata": {},
   "outputs": [
    {
     "data": {
      "text/plain": [
       "(14, 15)"
      ]
     },
     "execution_count": 1400,
     "metadata": {},
     "output_type": "execute_result"
    }
   ],
   "source": [
    "df_valid_boost.shape"
   ]
  },
  {
   "cell_type": "code",
   "execution_count": 1435,
   "id": "miniature-builder",
   "metadata": {},
   "outputs": [],
   "source": [
    "test_lin = pd.concat([df_valid_lin, df_test_lin])\n",
    "test_boost = pd.concat([df_valid_boost, df_test_boost])"
   ]
  },
  {
   "cell_type": "markdown",
   "id": "geological-controversy",
   "metadata": {},
   "source": [
    "## HyperModel"
   ]
  },
  {
   "cell_type": "code",
   "execution_count": 1424,
   "id": "recognized-force",
   "metadata": {},
   "outputs": [],
   "source": [
    "class HybridModel:\n",
    "    def __init__(self, model_1, model_2, grid=None):\n",
    "        self.model_1 = model_1\n",
    "        self.model_2 = model_2\n",
    "        self.grid = grid\n",
    "        \n",
    "    def fit(self, X_train_1, X_train_2, y):\n",
    "        self.model_1.fit(X_train_1, y)\n",
    "        \n",
    "        y_trend = self.model_1.predict(X_train_1)\n",
    "\n",
    "        if self.grid:\n",
    "            tscv = TimeSeriesSplit(n_splits=7)\n",
    "            grid_model = GridSearchCV(estimator=self.model_2, cv=tscv, param_grid=self.grid)\n",
    "        \n",
    "            grid_model.fit(X_train_2, y-y_trend)\n",
    "           \n",
    "            y_resid = grid_model.predict(X_train_2)\n",
    "            \n",
    "            \n",
    "            self.grid_model=grid_model\n",
    "        else:\n",
    "            self.model_2.fit(X_train_2, y-y_trend)\n",
    "            \n",
    "            y_resid = self.model_2.predict(X_train_2)\n",
    "        try:\n",
    "            plt.rcParams[\"figure.figsize\"] = (15, 6)\n",
    "            l_pi(grid_model.best_estimator_)\n",
    "            plt.show()\n",
    "        except:\n",
    "            pass\n",
    "        try:\n",
    "            plt.rcParams[\"figure.figsize\"] = (15, 6)\n",
    "            plot_importance(grid_model.best_estimator_)\n",
    "            plt.show()\n",
    "        except:\n",
    "            pass\n",
    "        \n",
    "    def predict(self, X_test_1, X_test_2):\n",
    "        y_trend = self.model_1.predict(X_test_1)\n",
    "        \n",
    "        if self.grid:\n",
    "            y_resid = self.grid_model.predict(X_test_2)\n",
    "        else:\n",
    "            y_resid = self.model_2.predict(X_test_2)\n",
    "        \n",
    "        y_pred = y_trend + y_resid\n",
    "        \n",
    "        return y_pred"
   ]
  },
  {
   "cell_type": "markdown",
   "id": "awful-excellence",
   "metadata": {},
   "source": [
    "## Prediction"
   ]
  },
  {
   "cell_type": "code",
   "execution_count": 1436,
   "id": "instrumental-vacation",
   "metadata": {},
   "outputs": [
    {
     "data": {
      "image/png": "[encoded data removed]",
      "text/plain": [
       "<Figure size 1080x432 with 1 Axes>"
      ]
     },
     "metadata": {
      "needs_background": "light"
     },
     "output_type": "display_data"
    },
    {
     "name": "stdout",
     "output_type": "stream",
     "text": [
      "Model_2:LGBMRegressor(random_state=32) -- time:0.12 mins\n",
      "Best parameters: {'learning_rate': 0.3, 'max_depth': 10, 'n_estimators': 110} \n",
      "\n"
     ]
    },
    {
     "data": {
      "image/png": "[encoded data removed]",
      "text/plain": [
       "<Figure size 1080x432 with 1 Axes>"
      ]
     },
     "metadata": {
      "needs_background": "light"
     },
     "output_type": "display_data"
    },
    {
     "name": "stdout",
     "output_type": "stream",
     "text": [
      "Model_2:XGBRegressor(base_score=None, booster=None, colsample_bylevel=None,\n",
      "             colsample_bynode=None, colsample_bytree=None, gamma=None,\n",
      "             gpu_id=None, importance_type='gain', interaction_constraints=None,\n",
      "             learning_rate=None, max_delta_step=None, max_depth=None,\n",
      "             min_child_weight=None, missing=nan, monotone_constraints=None,\n",
      "             n_estimators=100, n_jobs=None, num_parallel_tree=None,\n",
      "             random_state=32, reg_alpha=None, reg_lambda=None,\n",
      "             scale_pos_weight=None, subsample=None, tree_method=None,\n",
      "             validate_parameters=None, verbosity=None) -- time:0.6 mins\n",
      "Best parameters: {'learning_rate': 0.25, 'max_depth': 3, 'n_estimators': 120} \n",
      "\n"
     ]
    }
   ],
   "source": [
    "model_1 = LinearRegression()\n",
    "models_2 = [LGBMRegressor(random_state=32), XGBRegressor(random_state=32)]\n",
    "\n",
    "\n",
    "param_grid = {'n_estimators': [105, 110, 120],\n",
    "        'max_depth': [3, 7, 10],\n",
    "        'learning_rate': [0.15, 0.2, 0.25, 0.3]}\n",
    "\n",
    "y_pred = np.zeros(len(test_lin))\n",
    "\n",
    "for model_2 in models_2:\n",
    "    start = time.time()\n",
    "    \n",
    "    model = HybridModel(model_1, model_2, grid = param_grid)\n",
    "\n",
    "    model.fit(df_train_lin_final, df_train_boost_final, np.log(Y_train))\n",
    "\n",
    "    y_pred += np.exp(model.predict(test_lin, test_boost))\n",
    "    stop = time.time()\n",
    "    \n",
    "    print(f'Model_2:{model_2} -- time:{round((stop-start)/60,2)} mins')\n",
    "    \n",
    "    if model.grid:\n",
    "        print('Best parameters:',model.grid_model.best_params_,'\\n')\n",
    "\n",
    "y_pred = y_pred/len(models_2)"
   ]
  },
  {
   "cell_type": "code",
   "execution_count": 1437,
   "id": "talented-meeting",
   "metadata": {},
   "outputs": [],
   "source": [
    "def geometric_round(arr):\n",
    "    result_array = arr\n",
    "    result_array = np.where(result_array < np.sqrt(np.floor(arr)*np.ceil(arr)), np.floor(arr), result_array)\n",
    "    result_array = np.where(result_array >= np.sqrt(np.floor(arr)*np.ceil(arr)), np.ceil(arr), result_array)\n",
    "    return result_array\n",
    "\n",
    "y_pred = geometric_round(y_pred)"
   ]
  },
  {
   "cell_type": "markdown",
   "id": "apparent-traveler",
   "metadata": {},
   "source": [
    "## Validation "
   ]
  },
  {
   "cell_type": "code",
   "execution_count": 1280,
   "id": "simple-delaware",
   "metadata": {},
   "outputs": [
    {
     "name": "stdout",
     "output_type": "stream",
     "text": [
      "Validation: 2 weeks and reduced step in shift(2,4,6) with more estimators\n",
      "MSE\t 8.857142857142858\n",
      "MAE\t 2.4285714285714284\n"
     ]
    }
   ],
   "source": [
    "print('Validation: 2 weeks and reduced step in shift(2,4,6) with more estimators\\nMSE\\t', mean_squared_error(Y_valid, y_pred))\n",
    "print('MAE\\t',mean_absolute_error(Y_valid, y_pred))"
   ]
  },
  {
   "cell_type": "markdown",
   "id": "vietnamese-bernard",
   "metadata": {},
   "source": [
    "## Test"
   ]
  },
  {
   "cell_type": "code",
   "execution_count": 1466,
   "id": "conservative-freight",
   "metadata": {},
   "outputs": [],
   "source": [
    "submission = pd.to_datetime([1, 2, 3, 4, 5, 6], unit='D', origin=pd.Timestamp('2021-12-31'))\n",
    "submission = submission.insert(0, '2021-12-31')\n",
    "submission = pd.DataFrame(submission, y_pred_test)\n",
    "submission = submission.rename(columns = {0:'dates'})"
   ]
  },
  {
   "cell_type": "code",
   "execution_count": 1468,
   "id": "extra-compound",
   "metadata": {},
   "outputs": [],
   "source": [
    "submission = submission.reset_index().rename(columns = {'index':'quantities'})"
   ]
  },
  {
   "cell_type": "code",
   "execution_count": 1469,
   "id": "scientific-concord",
   "metadata": {},
   "outputs": [
    {
     "data": {
      "text/html": [
       "<div>\n",
       "<style scoped>\n",
       "    .dataframe tbody tr th:only-of-type {\n",
       "        vertical-align: middle;\n",
       "    }\n",
       "\n",
       "    .dataframe tbody tr th {\n",
       "        vertical-align: top;\n",
       "    }\n",
       "\n",
       "    .dataframe thead th {\n",
       "        text-align: right;\n",
       "    }\n",
       "</style>\n",
       "<table border=\"1\" class=\"dataframe\">\n",
       "  <thead>\n",
       "    <tr style=\"text-align: right;\">\n",
       "      <th></th>\n",
       "      <th>quantities</th>\n",
       "      <th>dates</th>\n",
       "    </tr>\n",
       "  </thead>\n",
       "  <tbody>\n",
       "    <tr>\n",
       "      <th>0</th>\n",
       "      <td>8.0</td>\n",
       "      <td>2021-12-31</td>\n",
       "    </tr>\n",
       "    <tr>\n",
       "      <th>1</th>\n",
       "      <td>5.0</td>\n",
       "      <td>2022-01-01</td>\n",
       "    </tr>\n",
       "    <tr>\n",
       "      <th>2</th>\n",
       "      <td>10.0</td>\n",
       "      <td>2022-01-02</td>\n",
       "    </tr>\n",
       "    <tr>\n",
       "      <th>3</th>\n",
       "      <td>9.0</td>\n",
       "      <td>2022-01-03</td>\n",
       "    </tr>\n",
       "    <tr>\n",
       "      <th>4</th>\n",
       "      <td>8.0</td>\n",
       "      <td>2022-01-04</td>\n",
       "    </tr>\n",
       "    <tr>\n",
       "      <th>5</th>\n",
       "      <td>11.0</td>\n",
       "      <td>2022-01-05</td>\n",
       "    </tr>\n",
       "    <tr>\n",
       "      <th>6</th>\n",
       "      <td>9.0</td>\n",
       "      <td>2022-01-06</td>\n",
       "    </tr>\n",
       "  </tbody>\n",
       "</table>\n",
       "</div>"
      ],
      "text/plain": [
       "   quantities      dates\n",
       "0         8.0 2021-12-31\n",
       "1         5.0 2022-01-01\n",
       "2        10.0 2022-01-02\n",
       "3         9.0 2022-01-03\n",
       "4         8.0 2022-01-04\n",
       "5        11.0 2022-01-05\n",
       "6         9.0 2022-01-06"
      ]
     },
     "execution_count": 1469,
     "metadata": {},
     "output_type": "execute_result"
    }
   ],
   "source": [
    "submission"
   ]
  },
  {
   "cell_type": "code",
   "execution_count": 1471,
   "id": "innovative-speaker",
   "metadata": {},
   "outputs": [],
   "source": [
    "submission.to_csv('imprice_subm.csv', index = False)"
   ]
  },
  {
   "cell_type": "code",
   "execution_count": null,
   "id": "systematic-shape",
   "metadata": {},
   "outputs": [],
   "source": []
  }
 ],
 "metadata": {
  "kernelspec": {
   "display_name": "Python 3",
   "language": "python",
   "name": "python3"
  },
  "language_info": {
   "codemirror_mode": {
    "name": "ipython",
    "version": 3
   },
   "file_extension": ".py",
   "mimetype": "text/x-python",
   "name": "python",
   "nbconvert_exporter": "python",
   "pygments_lexer": "ipython3",
   "version": "3.8.0"
  }
 },
 "nbformat": 4,
 "nbformat_minor": 5
}
